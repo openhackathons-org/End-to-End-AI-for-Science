{
 "cells": [
  {
   "cell_type": "markdown",
   "metadata": {},
   "source": [
    "# Getting started with Modulus - Simulating projectile motion"
   ]
  },
  {
   "cell_type": "markdown",
   "metadata": {},
   "source": [
    "This notebook will give you a headstart in solving your Partial Differential Equations (PDEs) using neural networks. \n",
    "\n",
    "Let's quickly recap the theory of PINNs before proceeding. We will embed the physics of the problem in the neural networks. In such a setting, we can use them to approximate the solution to a given differential equation and boundary condition without any training data from other solvers. More specifically, the neural network will be trained to minimize a loss function formed using the differential equation and the boundary conditions. If the network can minimize this loss, then it will, in effect solve the given differential equation. More information about the Physics Informed Neural Networks (PINNs) can be found in the <a href=\"https://www.sciencedirect.com/science/article/pii/S0021999118307125?casa_token=1CnSbVeDwJ0AAAAA:-8a6ZMjO7RgYjFBAxIoVU2sWAdsqFzLRTNHA1BkRryNPXx5Vjc8hCDCkS99gcZR0B1rpa33a30yG\" rel=\"nofollow\">paper</a> published by Raissi et al. \n",
    "You can refer to the <a href=\"https://docs.nvidia.com/deeplearning/modulus/index.html\" rel=\"nofollow\">Modulus User Documentation</a> for more examples on solving different types of PDEs using the Modulus library, Modulus APIs, Release notes, etc. \n"
   ]
  },
  {
   "cell_type": "markdown",
   "metadata": {},
   "source": [
    "#### Contents of the Notebook\n",
    "\n",
    "- [Simulating the Projectile Motion ODE](#Simulating-the-Projectile-Motion-ODE)\n",
    "    - [Case Setup](#Case-Setup)\n",
    "    - [Step 1: Creating the geometry](#Step-1:-Creating-the-geometry)\n",
    "    - [Step 2: Defining the differential equations for the problem and creating the nodes](#Step-2:-Defining-the-differential-equations-for-the-problem-and-creating-the-nodes)\n",
    "    - [Step 3: Setting up the Domain,a ssigning the boundary and PDE constraints](#Step-3:-Setting-up-the-Domain,a-ssigning-the-boundary-and-PDE-constraints)\n",
    "    - [Step 4: Adding Validation and Inferencers to the Domain](#Step-4:-Adding-Validation-and-Inferencers-to-the-Domain)\n",
    "    - [Step 5: Using Hydra to configure Modulus](#Step-5:-Using-Hydra-to-configure-Modulus)\n",
    "    - [Step 6: Putting everything together: Solver and training](#Step-6:-Putting-everything-together:-Solver-and-training)\n",
    "    - [Visualizing the solution](#Visualizing-the-solution)\n",
    "- [Introduction to Paraview](#Introduction-to-Paraview)\n",
    "    - [Installing Paraview](#Installing-Paraview:)\n",
    "    - [Getting Started with Paraview](#Getting-Started-with-ParaView)\n",
    "        \n",
    "#### Learning Outcomes\n",
    "- How to use Modulus to simulate physics problems using PINNs\n",
    "- How to write your own PDEs and formulate the different losses\n",
    "- How to define a domain and specify constraints\n",
    "- How to monitor the training of the PINNs using Tensorboard\n",
    "    "
   ]
  },
  {
   "cell_type": "markdown",
   "metadata": {},
   "source": [
    "## Simulating the Projectile Motion ODE\n",
    "\n",
    "Our aim in this setup is to obtain the position of a point mass as a function of time $ ( x(t) , y(t) )$ which is given an initial velocity from the origin at the initial moment ( $t=0$ ), this 2-d space has a constant gravitational acceleration ( $g=-9.8m/s^2$ ) and air resistance can be neglected. The sample output path of the problem can be seen below. While we are familiar with the equations of motions, we can differentiate it to obtain the differential equations for this system.\n",
    "<center><img src=\"images/projectile.svg\" alt=\"Drawing\" style=\"width:600px\" /></center>\n",
    "\n",
    "\n",
    "The equations of motion for such a system are defined as follows: \n",
    "$$\n",
    "S_x = V_{0x} t \\\\\n",
    "S_y = V_{0y} t + \\frac{1}{2} g t^2 \n",
    "$$\n",
    "The above equation when differentiated with respect to time gives us the following:  \n",
    "$$\n",
    "\\frac{dS_x}{dt} = V_{0x} \\\\\n",
    "\\frac{dS_y}{dt} = V_{0y} + gt\n",
    "$$\n",
    "While you may setup the problem statement with these equations, in this setup we will be using further differentiate it to get the second-order derivatives with respect to time as following and using it in our setup: \n",
    "$$\n",
    "\\frac{\\mathrm{d}^2 S_x}{\\mathrm{d} t^2} = 0 \\\\\n",
    "\\frac{\\mathrm{d}^2 S_y}{\\mathrm{d} t^2} = g\n",
    "$$\n",
    "The above second order differential equations can now be used to setup our case, in this case while we are aware of the analytical solutions, a lot of the complex systems are defined using Partial differential equations and a finding an analytical solution might not be straight-forward when the complexity of equations increases.\n"
   ]
  },
  {
   "cell_type": "markdown",
   "metadata": {},
   "source": [
    "### Case Setup\n",
    "\n",
    "Now that we have our problem defined, let's look at the code required to solve it using Modulus. Modulus has a variety of helper functions/APIs that will help us to set up the problem with ease. It has APIs to model geometry in a parameterized fashion using the Constructive Solid Geometry (CSG) module, write up the required equations in a user-friendly symbolic format and comes with several advanced neural network architectures to choose from for more complicated problems. \n",
    "Now let's start the problem by importing the required libraries and packages\n",
    "<h4 id=\"note--in-this-notebook-we-will-describe-the-contents-of-the-projectilepy-script\">Note : In this notebook, we will describe the contents of the <a href=\"../../source_code/projectile/projectile.py\" rel=\"nofollow\"><code>projectile.py</code></a> script</h4>\n"
   ]
  },
  {
   "cell_type": "markdown",
   "metadata": {},
   "source": [
    "```python\n",
    "import numpy as np\n",
    "from sympy import Symbol, sin, cos, pi,  Eq\n",
    "import torch\n",
    "import modulus\n",
    "from modulus.sym.hydra import instantiate_arch, ModulusConfig\n",
    "from modulus.sym.solver import Solver\n",
    "from modulus.sym.domain import Domain\n",
    "from modulus.sym.geometry.primitives_1d import Line1D,Point1D\n",
    "from modulus.sym.geometry.primitives_2d import Rectangle\n",
    "from modulus.sym.domain.constraint import (\n",
    "        PointwiseBoundaryConstraint,\n",
    "        PointwiseInteriorConstraint,\n",
    ")\n",
    "from modulus.sym.domain.inferencer import PointwiseInferencer\n",
    "from modulus.sym.domain.validator import PointwiseValidator\n",
    "from modulus.sym.key import Key\n",
    "from modulus.sym.node import Node\n",
    "from projectile_eqn import ProjectileEquation\n",
    "from modulus.sym.utils.io import (\n",
    "    csv_to_dict,\n",
    "    ValidatorPlotter,\n",
    "    InferencerPlotter,\n",
    ")\n",
    "\n",
    "```"
   ]
  },
  {
   "cell_type": "markdown",
   "metadata": {},
   "source": [
    "From v22.03 modulus supports APIs for solving data-driven problems where the data is available on grid/mesh as well as the PINN problems where point clouds are used for problem formulation. In this section, since we will be solving the projectile problem using the PINN approach, we will use the functions and classes from the `modulus.solver` module. The `Solver` class trains and evaluates the Modulus' neural network solver. The `Domain` class is used to add constraints, monitors, validators, etc. to the problem.\n",
    "\n",
    "The `geometry` module contains predefined geometries respectively that one can use to define the problem. We will describe each of them in detail as we move forward in the code. For more detailed information on all the different modules, we recommend you to refer the [Modulus API Documentation](https://docs.nvidia.com/deeplearning/modulus/modulus-sym/api/api_index.html)."
   ]
  },
  {
   "cell_type": "markdown",
   "metadata": {},
   "source": [
    "### Step 1: Creating the geometry\n",
    "\n",
    "In this problem, we will create a 1-dimensional geometry using `Point1D` class from the geometry module. The module also contains several 2d and 3d shapes like rectangle, circle, triangle, cuboids, sphere, torus, cones, tetrahedrons, etc. We will define the one-dimensional (1D) Point mass object for our simulation."
   ]
  },
  {
   "cell_type": "markdown",
   "metadata": {},
   "source": [
    "```python\n",
    "# params for domain\n",
    "geo = Point1D(0)\n",
    "```"
   ]
  },
  {
   "cell_type": "markdown",
   "metadata": {},
   "source": [
    "### Step 2: Defining the differential equations for the problem and creating the nodes\n",
    "\n",
    "The `PDE` class allows us to write the equations symbolically in Sympy. This allows you to quickly write your equations in the most natural way possible. The Sympy equations are converted to PyTorch expressions in the back-end and can also be printed to ensure correct implementation.\n",
    "\n",
    "Modulus also comes with several common PDEs predefined for the user to choose from. Some of the PDEs that are already available in the PDEs module are: Navier Stokes, Linear Elasticity, Advection Diffusion, Wave Equations, etc.\n",
    "\n",
    "Let's create the PDE to define the equation.\n",
    "$$\n",
    "\\frac{\\mathrm{d}^2 S_x}{\\mathrm{d} t^2} = 0 \\\\\n",
    "\\frac{\\mathrm{d}^2 S_y}{\\mathrm{d} t^2} = g\n",
    "$$\n",
    "\n",
    "Let's start defining the equation by inhereting from the `PDE` class. We will create the initialization method for this class that defines the equation(s) of interest."
   ]
  },
  {
   "cell_type": "markdown",
   "metadata": {},
   "source": [
    "```python\n",
    "class ProjectileEquation(PDE):\n",
    "    name = \"ProjectileEquation\"\n",
    "\n",
    "    def __init__(self):\n",
    "\n",
    "        #time\n",
    "        t = Symbol(\"t\")\n",
    "\n",
    "        #make input variables\n",
    "        input_variables = {\"t\": t}\n",
    "\n",
    "        #make y function\n",
    "        x = Function(\"x\")(*input_variables)\n",
    "        y = Function(\"y\")(*input_variables)\n",
    "        \n",
    "\n",
    "        #set equation\n",
    "        self.equations = {}\n",
    "        self.equations[\"ode_x\"] = x.diff(t,2)\n",
    "        self.equations[\"ode_y\"] = y.diff(t,2)\n",
    "```"
   ]
  },
  {
   "cell_type": "markdown",
   "metadata": {},
   "source": [
    "First, we defined the input variable $t$ with Sympy symbols. Then we defined the functions for $x$, $y$ that are dependent on the input variable $t$. Using these, we can write out our equations. We store this equation in the class by adding it to the dictionary of `equations`.\n",
    "\n",
    "Note that we moved all the terms of the PDE either to LHS or RHS. This way, while using the equations in the constraints, we can assign a custom source function to the <code>’ode_y’</code> or <code>’ode_x’</code> key instead of 0 to add more source terms to our PDE.\n",
    "Great! We just wrote our own PDE in Modulus! Once you have understood the process to code a simple PDE, you can easily extend the procedure for different PDEs. You can also bundle multiple PDEs together in the same file by adding new keys to the equations dictionary. \n",
    "<em>(More examples of coding your own PDE can be found in the <a href=\"https://docs.nvidia.com/deeplearning/modulus/modulus-sym/user_guide/foundational/1d_wave_equation.html\" rel=\"nofollow\">Modulus User Documentation</a>)</em>. \n"
   ]
  },
  {
   "cell_type": "markdown",
   "metadata": {},
   "source": [
    "#### Creating the Neural Network nodes\n",
    "\n",
    "The default `FullyConnectedArch` (selected by setting `cfg.arch.fully_connected` in the `cfg` argument of the `instantiate_arch()` function) can be used to create the neural network for the problem. The default `FullyConnectedArch` represents a 6 layer MLP (multi-layer perceptron) architecture with each layer containing 512 nodes and uses swish as the activation function. All these parameters are user configurable, and can be configured using Hydra config files. Once all the PDEs and architectures are defined, we can create a list of nodes to pass to different constraints we want to satisfy for this problem (i.e. equations residuals, boundary conditions, etc.).\n",
    "\n",
    "We will define all the code for the problem in the `run` function as shown below. "
   ]
  },
  {
   "cell_type": "markdown",
   "metadata": {},
   "source": [
    "```python  \n",
    "@modulus.sym.main(config_path=\"conf\", config_name=\"config\")\n",
    "def run(cfg: ModulusConfig) -> None:\n",
    "    #Creating Nodes and Domain\n",
    "    pe = ProjectileEquation()\n",
    "    projectile_net = instantiate_arch(\n",
    "        input_keys=[Key(\"t\")],\n",
    "        output_keys=[Key(\"x\"),Key(\"y\")],\n",
    "        cfg=cfg.arch.fully_connected,\n",
    "    )\n",
    "\n",
    "    nodes = pe.make_nodes() + [projectile_net.make_node(name=\"projectile_network\")]\n",
    "```"
   ]
  },
  {
   "cell_type": "markdown",
   "metadata": {},
   "source": [
    "### Step 3: Setting up the Domain, assigning the boundary and PDE constraints\n",
    "\n",
    "As described earlier, we need to define a domain for training our neural network. The `Domain` and the configs are passed as inputs when using the `Solver` class. Apart from constraints, you can add various other utilities to the `Domain` such as monitors, validation data, points to do inference on, etc. "
   ]
  },
  {
   "cell_type": "markdown",
   "metadata": {},
   "source": [
    "```python\n",
    "    # make domain to add constraints to the solver\n",
    "    projectile_domain = Domain()\n",
    "```"
   ]
  },
  {
   "cell_type": "markdown",
   "metadata": {},
   "source": [
    "Now let’s look into adding constraints to this domain. This can be thought of as adding specific constraints to the neural network optimization. For this physics-driven problem, these constraints are the boundary conditions and equation residuals. The goal is to satisfy the boundary conditions exactly and ideally have the PDE residuals go to 0. These constraints can be specified within Modulus using classes like `PointwiseBoundaryConstraint` and `PointwiseInteriorConstraint`. An L2 loss (default and can be modified) is then constructed from these constraints, which is used by the optimizer to minimize on.\n",
    "\n",
    "$$L = L_{BC} + L_{Residual}$$\n",
    "<strong>Boundary constraints:</strong> For generating a boundary condition, we need to sample the points on the required boundary/surface of the geometry, specify the nodes we would like to unroll/evaluate on these points and then assign them the desired values. \n",
    "A boundary can be sampled using <code>PointwiseBoundaryConstraint</code> class. This will sample the entire boundary of the geometry we specify in the <code>geometry</code> argument. In this case, we defined the geometry as a 1d point mass.\n",
    "The desired values for the boundary condition are listed as a dictionary in <code>outvar</code> argument. \n",
    "For this problem,  we have set up two boundary conditions.\n",
    "<ul>\n",
    "<li>Initial condition ( $t=0$ ): We set the origin to be our starting point ( <code>'x': 0.0</code> ,<code>'y':0.0</code> ) and give it an initial velocity (<code>'x__t':v_o*cos(theta)</code>, <code>'y__t':v_o*sin(theta)</code> ). </li>\n",
    "<li>Rest of the time range ($t=(0,5) $): We will then set to solve the differential equations defined for the specific periods of time range ( <code>'ode_x':0.0</code> and <code>'ode_y':-9.81</code>) denoting that there is no acceleration other than gravitational acceleration. </li>\n",
    "</ul>\n",
    "These dictionaries are then used when unrolling the computational graph (specified using the <code>nodes</code> argument) for training.\n",
    "The number of points to sample on each boundary is specified using the <code>batch_size</code> parameter. \n"
   ]
  },
  {
   "cell_type": "markdown",
   "metadata": {},
   "source": [
    "```python\n",
    "    #Add Constraints to solver\n",
    "    v_o = 40.0                   # Initial velocity\n",
    "    theta = np.pi/3              # Initial angle \n",
    "    time_range = {t :(0.0,5.0)}  # Time range to solve the PDE\n",
    "\n",
    "    # Initial condition\n",
    "    IC = PointwiseBoundaryConstraint(\n",
    "            nodes = nodes,\n",
    "            geometry = geo,\n",
    "            outvar = {\"x\": 0.0,\"y\":0.0, \"x__t\":v_o*cos(theta), \"y__t\":v_o*sin(theta)},\n",
    "            batch_size = cfg.batch_size.initial_x,\n",
    "            parameterization = {t:0.0}\n",
    "    )\n",
    "    projectile_domain.add_constraint(IC,\"IC\")\n",
    "\n",
    "    # Solving PDE for the time range. \n",
    "    interior = PointwiseBoundaryConstraint(\n",
    "            nodes = nodes,\n",
    "            geometry = geo,\n",
    "            outvar = {\"ode_x\":0.0,\"ode_y\":-9.81},\n",
    "            batch_size = cfg.batch_size.interior,\n",
    "            parameterization = time_range,\n",
    "    )   \n",
    "    projectile_domain.add_constraint(interior,\"interior\")\n",
    "```"
   ]
  },
  {
   "cell_type": "markdown",
   "metadata": {},
   "source": [
    "### Step 4: Adding Validation and Inferencers to the Domain  \n",
    "\n",
    "#### Adding Validator\n",
    "\n",
    "For this problem, since we are aware of the solution, The analytical solution can then be given as:\n",
    "\n",
    "$$\n",
    "S_x = V_{0x} t \\\\\n",
    "S_y = V_{0y} t + \\frac{1}{2} g t^2 \n",
    "$$\n",
    "\n",
    "\n",
    "Now, let's create the validators. The validation data is added to the domain using the `PointwiseValidator` class. We use numpy to solve for the `x` and `y` based on the analytical expressions above. The dictionary of generated numpy arrays (`invar_numpy` and `outvar_numpy`) for input and output variables and the appropriate nodes are used in the definition of the constructor. "
   ]
  },
  {
   "cell_type": "markdown",
   "metadata": {},
   "source": [
    "```python\n",
    "    # Setup validator\n",
    "    delta_T = 0.01\n",
    "    t_val = np.arange(0.,5.,delta_T)\n",
    "    T_val = np.expand_dims(t_val.flatten(), axis = -1)\n",
    "    X_val =  v_o*np.cos(theta)*T_val\n",
    "    Y_val =  v_o*np.sin(theta)*T_val - 0.5*9.81*(T_val**2)\n",
    "    \n",
    "    invar_numpy = {\"t\": T_val}\n",
    "    outvar_numpy = {\"x\":X_val, \"y\": Y_val}\n",
    "    \n",
    "    validator = PointwiseValidator(\n",
    "            nodes=nodes,\n",
    "            invar=invar_numpy,\n",
    "            true_outvar=outvar_numpy,\n",
    "            batch_size=128,\n",
    "            plotter = ValidatorPlotter(),\n",
    "    )\n",
    "    projectile_domain.add_validator(validator)\n",
    "```"
   ]
  },
  {
   "cell_type": "markdown",
   "metadata": {},
   "source": [
    "#### Adding Inferencer \n",
    "\n",
    "Modulus also allows you to plot the results on arbitrary domains. You can then monitor these domains in Paraview or Tensorboard itself. More details on how to add Modulus information to Tensorboard can be found in TensorBoard in Modulus. The code below shows the use of PointwiseInferencer.\n",
    "\n",
    "In the code below, we create Inferencer for $x$ and $y$ for a period of 8 seconds of time.\n",
    "\n",
    "The points to sample can be selected in a similar way as we did for specifying the interior constraints."
   ]
  },
  {
   "cell_type": "markdown",
   "metadata": {},
   "source": [
    "```python\n",
    "    # Setup Inferencer\n",
    "    t_infe = np.arange(0,8,0.001)\n",
    "    T_infe = np.expand_dims(t_infe.flatten(), axis = -1)\n",
    "    invar_infe = {\"t\":T_infe}\n",
    "\n",
    "    grid_inference = PointwiseInferencer(\n",
    "        nodes=nodes,\n",
    "        invar=invar_infe,\n",
    "        output_names=[\"x\",\"y\"],\n",
    "        batch_size=128,\n",
    "        plotter=InferencerPlotter(),\n",
    "    )\n",
    "    projectile_domain.add_inferencer(grid_inference, \"inferencer_data\")\n",
    "```"
   ]
  },
  {
   "cell_type": "markdown",
   "metadata": {},
   "source": [
    "### Step 5: Using Hydra to configure Modulus\n",
    "\n",
    "At the heart of using Modulus are Hydra config files. The one for this example can be found in the code shown below. Using hydra allows a highly customizable but user-friendly method for configuring the majority of Modulus’ features. More information can be found in <a href=\"https://docs.nvidia.com/deeplearning/modulus/modulus-sym/user_guide/features/configuration.html\" rel=\"nofollow\">Modulus Configuration</a>.\n"
   ]
  },
  {
   "cell_type": "markdown",
   "metadata": {},
   "source": [
    "```yaml\n",
    "defaults :\n",
    "  - modulus_default\n",
    "  - arch:\n",
    "      - fully_connected\n",
    "  - scheduler: tf_exponential_lr\n",
    "  - optimizer: adam\n",
    "  - loss: sum\n",
    "  - _self_\n",
    "\n",
    "save_filetypes : \"vtk,npz\"\n",
    "\n",
    "scheduler:\n",
    "  decay_rate: 0.95\n",
    "  decay_steps: 100\n",
    "\n",
    "\n",
    "training:\n",
    "  rec_validation_freq: 1000\n",
    "  rec_inference_freq: 1000\n",
    "  rec_monitor_freq: 1000\n",
    "  rec_constraint_freq: 2000\n",
    "  max_steps : 5000\n",
    "\n",
    "batch_size:\n",
    "  initial_x: 100\n",
    "  interior: 1000\n",
    "  \n",
    "graph: \n",
    "  func_arch: true\n",
    "   \n",
    "cuda_graphs: True\n",
    "cuda_graph_warmup: 20\n",
    "```"
   ]
  },
  {
   "cell_type": "markdown",
   "metadata": {},
   "source": [
    "### Step 6: Putting everything together: Solver and training\n",
    "\n",
    "We can create a solver by using the domain we just created along with the other configurations that define the optimizer choices, and settings (i.e. conf) using Modulus’ `Solver` class. The solver can then be executed using the `solve` method. "
   ]
  },
  {
   "cell_type": "markdown",
   "metadata": {},
   "source": [
    "```python\n",
    "    # make solver\n",
    "    slv = Solver(cfg, projectile_domain)\n",
    "\n",
    "    # start solver\n",
    "    slv.solve()\n",
    "\n",
    "\n",
    "if __name__ == \"__main__\":\n",
    "    run()\n",
    "```"
   ]
  },
  {
   "cell_type": "markdown",
   "metadata": {},
   "source": [
    "Awesome! We have just completed the file set-up for the problem using the Modulus library. We are now ready to solve the PDEs using Neural Networks!\n",
    "\n",
    "Before we can start training, we can make use of Tensorboard for visualizing the loss values and convergence of several other monitors we just created. This can be done inside the Jupyter framework by selecting the directory in which the checkpoint will be stored by clicking on the small checkbox next to it. \n",
    "\n",
    "1. The option to launch a Tensorboard then shows up in that directory.\n",
    "\n",
    "<center><img src=\"images/tensorboard.png\" alt=\"Drawing\" style=\"width:900px\" /></center>\n",
    "\n",
    "2. We can launch tensorboard using the following command: \n",
    "\n",
    "```\n",
    "tensorboard --logdir /workspace/python/jupyter_notebook/ --port 8889\n",
    "```\n",
    "\n",
    "3. Open a new tab in your browser and head to [http://127.0.0.1:8889](http://127.0.0.1:8889) . You should see a screen similar to the below one. \n",
    "\n",
    "<center><img src=\"images/tensorboard_browser.png\" alt=\"Drawing\" style=\"width:900px\" /></center>\n",
    "\n",
    "\n",
    "Also, as Modulus uses Hydra for config management, this causes issues when the code is directly executed through the jupyter notebook. Hence, we will save the code in form of a python script and run that script inside the jupyter cell. This example is already saved for you, and the code block below executes that script <a href=\"../../source_code/projectile/projectile.py\" rel=\"nofollow\"><code>projectile.py</code></a>. You are encouraged to open the script and review the code once before executing. Also, feel free to edit the parameters in the <a href=\"../../source_code/projectile/conf/config.yaml\" rel=\"nofollow\"><code>config.yaml</code></a> file of the model and see its effect on the results.\n"
   ]
  },
  {
   "cell_type": "code",
   "execution_count": null,
   "metadata": {},
   "outputs": [],
   "source": [
    "import os\n",
    "os.environ[\"RANK\"]=\"0\"\n",
    "os.environ[\"WORLD_SIZE\"]=\"1\"\n",
    "os.environ[\"MASTER_ADDR\"]=\"localhost\""
   ]
  },
  {
   "cell_type": "code",
   "execution_count": null,
   "metadata": {},
   "outputs": [],
   "source": [
    "!python3 ../../source_code/projectile/projectile.py"
   ]
  },
  {
   "cell_type": "markdown",
   "metadata": {},
   "source": [
    "### Visualizing the solution\n",
    "\n",
    "Modulus saves the data in several formats (including .vtp, .vtk and .npz). The .npz arrays can be plotted to visualize the output of the simulation. The .npz files that are created are found in the `outputs/` directory. \n",
    "\n",
    "Now, let's plot the distance for the analytical and the neural network solution. A sample script to plot the results is shown below.\n",
    "\n",
    "<center><img src=\"images/prediction.png\" alt=\"Drawing\" style=\"center\"/></center>"
   ]
  },
  {
   "cell_type": "code",
   "execution_count": null,
   "metadata": {},
   "outputs": [],
   "source": [
    "import matplotlib.pyplot as plt\n",
    "import numpy as np\n",
    "\n",
    "plt.figure(figsize=(12, 4))\n",
    "\n",
    "network_dir = \"./outputs/projectile/validators/\"\n",
    "data_1 = np.load(network_dir + \"validator.npz\", allow_pickle=True)\n",
    "data_1 = np.atleast_1d(data_1.f.arr_0)[0]\n",
    "\n",
    "plt.subplot(1, 2, 1)\n",
    "plt.plot(data_1[\"t\"][:, 0], data_1[\"pred_x\"][:, 0], \"--\", label=\"x_pred\")\n",
    "plt.plot(data_1[\"t\"][:, 0], data_1[\"true_x\"][:, 0], label=\"x_true\")\n",
    "plt.legend()\n",
    "\n",
    "plt.subplot(1, 2, 2)\n",
    "plt.plot(data_1[\"t\"][:, 0], data_1[\"pred_y\"][:, 0], \"--\", label=\"y_pred\")\n",
    "plt.plot(data_1[\"t\"][:, 0], data_1[\"true_y\"][:, 0], label=\"y_true\")\n",
    "plt.legend()\n",
    "\n",
    "\n",
    "plt.savefig(\"prediction\")"
   ]
  },
  {
   "cell_type": "markdown",
   "metadata": {},
   "source": [
    "We have now trained and visualised our first partial differential equation using Modulus. Let us now move ahead to solving complex equations using Modulus."
   ]
  },
  {
   "cell_type": "markdown",
   "metadata": {
    "tags": []
   },
   "source": [
    "## Introduction to Paraview \n",
    "\n",
    "ParaView is an open-source, multi-platform application designed to visualize data sets of varying sizes from small to very large. The goals of the ParaView project include developing an open-source, multi-platform visualization application that supports distributed computational models to process large data sets. It has an open, flexible, and intuitive user interface. Furthermore, ParaView is built on an extensible architecture based on open standards. ParaView runs on distributed and shared memory parallel as well as single processor systems and has been successfully tested on Windows, Linux, Mac OS X, IBM Blue Gene, Cray XT3 and various Unix workstations and clusters. Under the hood, ParaView uses the Visualization Toolkit as the data processing and rendering engine and has a user interface written using the Qt cross-platform application framework. \n",
    "\n",
    "### Installing Paraview: \n",
    "\n",
    "For Installing Paraview, following the guidelines \n",
    "\n",
    "1. Navigate to the Paraview download webpage: [https://www.paraview.org/download/](https://www.paraview.org/download/)\n",
    "2. Select the latest version \n",
    "3. Choose your operating system: Select the appropriate version for your OS (Windows, macOS, or Linux).Download the installer:\n",
    "    - For Windows, download the `.msi` installer file.\n",
    "    - For macOS, download the `.dmg` file.\n",
    "    - For Linux, download the `.tar.gz` file.\n",
    "    \n",
    "    \n",
    "<center><img src=\"images/paraview_download.png\" alt=\"Drawing\" style=\"center\"/></center>\n",
    "\n",
    "\n",
    "4. Install ParaView:\n",
    "    - On Windows:\n",
    "        - a. Double-click the downloaded `.msi` file.\n",
    "        - b. Follow the installation wizard prompts.\n",
    "        - c. Choose the installation directory (default is usually fine).\n",
    "        - d. Click \"Finish\" when the installation is complete.\n",
    "    - On macOS:\n",
    "        - a. Open the downloaded `.dmg` file.\n",
    "        - b. Drag the ParaView application to your Applications folder.\n",
    "    - On Linux:\n",
    "        - a. Extract the downloaded package.\n",
    "        - b. Navigate to the `bin` folder and launch `pararview`\n",
    "        - c. Install any missing dependencies if prompted.\n",
    "        - d. Add the ParaView executable to your `$PATH`. Example: In bash, you can execute: `export PATH=\"/path/to/Paraview/#.#.#/bin:$PATH\"`\n",
    "5. Launch ParaView:\n",
    "    - On Windows: Search for \"ParaView\" in the Start menu and click to open.\n",
    "    - On macOS: Open ParaView from the Applications folder.\n",
    "    - On Linux: Launch the executable from the `bin` folder or if already added to `PATH`, then type paraview in the terminal or find it in your applications menu.\n",
    "6. Verify the installation: Once launched, you should see the ParaView interface with its main window and toolbars.\n"
   ]
  },
  {
   "cell_type": "markdown",
   "metadata": {},
   "source": [
    "### Getting Started with ParaView\n",
    "\n",
    "Let us take the example of projectile motion and download the `.vtp` files from `jupyter_notebook/projectile/outputs`. The data can be downloaded by clicking here [Initial Conition,](outputs/projectile/constraints/IC.vtp) [Interior Constraits,](outputs/projectile/constraints/interior.vtp) [Inference Data](outputs/projectile/inferencers/inferencer_data.vtp) and [Validation Data](outputs/projectile/validators/validator.vtp). Select `File` --> `Download` to download these files to your computer.\n",
    "\n",
    "You can also obtain the files by navigating to the respective folders and downloading them as follows: \n",
    "\n",
    "<center><img src=\"images/vtk_download.png\" alt=\"Drawing\" style=\"center\"/></center>\n",
    "\n",
    "\n",
    "ParaView is a powerful software that comes with lots of inbuilt tools to use. To get started, here's a brief introduction to using ParaView:\n",
    "\n",
    "\n",
    "<center><img src=\"images/paraview.png\" alt=\"Drawing\" style=\"center\"/></center>\n",
    "\n",
    "`paraview` is the graphical front-end to the ParaView application. The UI is designed to allow you to easily create pipelines for data processing with arbitrary complexity. The UI provides panels for you to inspect and modify the pipelines, to change parameters that in turn affect the processing pipelines, to perform various data selection and inspection actions to introspect the data, and to generate renderings. \n",
    "\n",
    "Let’s start by looking at the various components of the UI. If you run paraview for the first time, you will see something similar to the above figure. The UI consists of of menus, dockable panels, toolbars, and the viewport – the central portion of the application window.\n",
    "\n",
    "Menus provide the standard set of options typical with a desktop application including options for opening/saving files (File menu), for undo/redo (Edit menu), for the toggle panel, and for toolbar visibilities (View menu). Additionally, the menus provide ways to create sources that generate test datasets of various types (Sources menu), as well new filters for processing data (Filters menu). The Tools menu provides access to some of the advanced features in paraview such as managing plugins and favorites.\n",
    "\n",
    "Panels provide you with the ability to peek into the application’s state. For example, you can inspect the visualization pipeline that has been set up ( Pipeline Browser ), as well as the memory that is being used ( Memory Inspector ) and the parameters or properties for a processing module ( Properties panel). Several of the panels also allow you to change the values that are displayed, e.g., the Properties panel not only shows the processing module parameters, but it also allows you to change them. Several of the panels are context sensitive. For example, the Properties panel changes to show the parameters from the selected module as you change the active module in the Pipeline Browser .\n",
    "\n",
    "Toolbars are designed to provide quick access to common functionality. Several of the actions in the toolbar are accessible from other locations, including menus or panels. Similar to panels, some of the toolbar buttons are context sensitive and will become enabled or disabled based on the selected module or view.\n",
    "\n",
    "The viewport or the central portion of the paraview window is the area where ParaView renders results generated from the data. The containers in which data can be rendered or shown are called views. You can create several different types of views, all of which are laid out in this viewport area. By default, a 3D view is created, which is one of the most commonly used views in ParaView.\n",
    "\n",
    "\n",
    "Let us now get started with a Basic Workflow:\n",
    "- Let us download and open [Interior Constraits](outputs/projectile/constraints/interior.vtp) as this would have captured the points generated during the model training. \n",
    "- Open the `interior.vtk` in ParaView as shown below.  \n",
    "- Click on the Eye Icon to make the source visible. \n",
    "- Enable Data Grid for better visualisation \n",
    "- Adding a Color Map to distingush the Time axis. \n",
    "\n",
    "<center><img src=\"images/paraview_open.png\" alt=\"Drawing\" style=\"center\"/></center>\n",
    "\n",
    "\n",
    "Open you open the file, you can use the below annotated images as references to add Axis Grids and Color Maps for better visualisation.\n",
    "\n",
    "<center><img src=\"images/paraview_display.png\" alt=\"Drawing\" style=\"center\"/></center>\n",
    "\n",
    "The scope of ParaView's capabilities is quite extensive and goes well beyond what can be covered in our bootcamp. For a comprehensive understanding of ParaView's features and functionality, We would strongly encourage you to explore the official ParaView [documentation](https://docs.paraview.org/en/latest/) and [User Guide](https://docs.paraview.org/en/latest/UsersGuide/index.html). "
   ]
  },
  {
   "cell_type": "markdown",
   "metadata": {},
   "source": [
    "--- \n",
    "\n",
    "Don't forget to check out additional [Open Hackathons Resources](https://www.openhackathons.org/s/technical-resources) and join our [OpenACC and Hackathons Slack Channel](https://www.openacc.org/community#slack) to share your experience and get more help from the community.\n",
    "\n",
    "---\n",
    "\n",
    "# Licensing\n",
    "\n",
    "Copyright © 2023 OpenACC-Standard.org.  This material is released by OpenACC-Standard.org, in collaboration with NVIDIA Corporation, under the Creative Commons Attribution 4.0 International (CC BY 4.0). These materials may include references to hardware and software developed by other entities; all applicable licensing and copyrights apply."
   ]
  }
 ],
 "metadata": {
  "kernelspec": {
   "display_name": "Python 3 (ipykernel)",
   "language": "python",
   "name": "python3"
  },
  "language_info": {
   "codemirror_mode": {
    "name": "ipython",
    "version": 3
   },
   "file_extension": ".py",
   "mimetype": "text/x-python",
   "name": "python",
   "nbconvert_exporter": "python",
   "pygments_lexer": "ipython3",
   "version": "3.10.12"
  },
  "vscode": {
   "interpreter": {
    "hash": "a711b04aa4c9aa07579ffc797b65c7dfc6f7ec2ead73841f0d3314704b4af09d"
   }
  }
 },
 "nbformat": 4,
 "nbformat_minor": 4
}
